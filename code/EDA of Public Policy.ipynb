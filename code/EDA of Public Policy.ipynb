{
 "cells": [
  {
   "cell_type": "markdown",
   "id": "7ca88713",
   "metadata": {},
   "source": [
    "# Initial Data Cleaning and EDA    "
   ]
  },
  {
   "cell_type": "markdown",
   "id": "7d09c529",
   "metadata": {},
   "source": [
    "## Initial EDA\n",
    "\n",
    "### Selecting colunmns of interest and target feature(s):\n",
    "\n",
    "1) Which columns in your data sets will help you answer the questions posed by your problem statement?\n",
    "\n",
    "A) There are several columns identified previously that will be relevant. All columns are related to housing policies at the state level, including private and public spending, discrimination laws, rent control, and housing prices. The housing names are identified under the variable \"interesting_columns\".\n",
    "\n",
    "2) Which columns represent the key pieces of information you want to examine? \n",
    "\n",
    "A) The primary target variable that we want to examine is the rent control (regulation_rent_control) variable.\n",
    "\n",
    "3) How many numerical, textual, datetime, columns in the dataset?\n",
    "\n",
    "A) Although all columns are stored numerically, most of the columns encode categorical data stored in 0s or 1s. Column \"st\" is text, and column \"year\" is numerical but encodes datetime (only year) information. Columns \"housing_prices_quar\",\"ahcdpi\",\"ahcdpia\",\"ahcdspt\",\"landfree\", and \"ig_cons\" contain numerical data that is a continuous variable (numerical). \n",
    "\n",
    "4) Pick out any similar columns among your disparate data sets for potential linking later on on the EDA process?\n",
    "\n",
    "A) The \"st\" column will be our linking variable.\n"
   ]
  },
  {
   "cell_type": "code",
   "execution_count": 55,
   "id": "0e3552ce",
   "metadata": {
    "scrolled": true
   },
   "outputs": [],
   "source": [
    "import pandas as pd\n",
    "import matplotlib.pyplot as plt\n",
    "#import seaborn as sns\n",
    "import pdb"
   ]
  },
  {
   "cell_type": "code",
   "execution_count": 56,
   "id": "b2b2c937",
   "metadata": {},
   "outputs": [],
   "source": [
    "interesting_columns = ['st','year','regulation_rent_control',\n",
    "                       'frent','landfree','housing_prices_quar',\n",
    "                       'ahcdpi','ahcdpia','ahcdspt','ig_cons',\n",
    "                       'ndl_housing','fhpriv','fhpub','fhurb',\n",
    "                       'agpbspt','agrantspi',\n",
    "                       'race_boehmke_fhpub','w_race_fair_housing_private',\n",
    "                       'pubhouen','regulation_housing_directstateai',\n",
    "                       'regulation_housing_enabling_federal_aid']\n",
    "\n",
    "df = pd.read_csv('datasets/State_public policy.csv',low_memory=False)\n",
    "df.drop(df.columns.difference(interesting_columns),axis=1,inplace=True)\n"
   ]
  },
  {
   "cell_type": "markdown",
   "id": "aed452cd",
   "metadata": {},
   "source": [
    "# Goals for Initial Data Cleaning\n",
    "- Address NaNs, interpolate, drop, or fill?\n",
    "- Rename columns to meaningful strings\n",
    "- Classify the binary data as categorical"
   ]
  },
  {
   "cell_type": "code",
   "execution_count": 57,
   "id": "f54f9a6e",
   "metadata": {
    "scrolled": true
   },
   "outputs": [
    {
     "name": "stdout",
     "output_type": "stream",
     "text": [
      "6171\n"
     ]
    },
    {
     "data": {
      "text/plain": [
       "st                                            0\n",
       "year                                          0\n",
       "housing_prices_quar                        4284\n",
       "agpbspt                                    4121\n",
       "agrantspi                                  4121\n",
       "ahcdpi                                     4121\n",
       "ahcdpia                                    4121\n",
       "ahcdspt                                    4121\n",
       "landfree                                   5971\n",
       "ig_cons                                    5880\n",
       "ndl_housing                                6120\n",
       "fhpriv                                     1271\n",
       "fhpub                                      1271\n",
       "fhurb                                      1271\n",
       "race_boehmke_fhpub                         4815\n",
       "w_race_fair_housing_private                5671\n",
       "pubhouen                                   1271\n",
       "frent                                      5321\n",
       "regulation_housing_directstateai           5508\n",
       "regulation_housing_enabling_federal_aid    5259\n",
       "regulation_rent_control                    2921\n",
       "dtype: int64"
      ]
     },
     "execution_count": 57,
     "metadata": {},
     "output_type": "execute_result"
    }
   ],
   "source": [
    "print(len(df)) #Report the total number of rows\n",
    "df.isna().sum() #Report the total number of NaNs across all columns\n"
   ]
  },
  {
   "cell_type": "code",
   "execution_count": 58,
   "id": "2753724c",
   "metadata": {},
   "outputs": [
    {
     "data": {
      "text/plain": [
       "st                                          0.000000\n",
       "year                                        0.000000\n",
       "housing_prices_quar                        69.421488\n",
       "agpbspt                                    66.780100\n",
       "agrantspi                                  66.780100\n",
       "ahcdpi                                     66.780100\n",
       "ahcdpia                                    66.780100\n",
       "ahcdspt                                    66.780100\n",
       "landfree                                   96.759034\n",
       "ig_cons                                    95.284395\n",
       "ndl_housing                                99.173554\n",
       "fhpriv                                     20.596338\n",
       "fhpub                                      20.596338\n",
       "fhurb                                      20.596338\n",
       "race_boehmke_fhpub                         78.026252\n",
       "w_race_fair_housing_private                91.897585\n",
       "pubhouen                                   20.596338\n",
       "frent                                      86.225895\n",
       "regulation_housing_directstateai           89.256198\n",
       "regulation_housing_enabling_federal_aid    85.221196\n",
       "regulation_rent_control                    47.334306\n",
       "dtype: float64"
      ]
     },
     "execution_count": 58,
     "metadata": {},
     "output_type": "execute_result"
    }
   ],
   "source": [
    "100* df.isna().sum() / len(df)"
   ]
  },
  {
   "cell_type": "markdown",
   "id": "78975914",
   "metadata": {},
   "source": [
    "We can see that several of the data points have a lot of NaNs, this is probably due to the limited time-data in which a lot of these were collected"
   ]
  },
  {
   "cell_type": "code",
   "execution_count": 59,
   "id": "02bdbbc2",
   "metadata": {},
   "outputs": [
    {
     "data": {
      "text/plain": [
       "st                                          object\n",
       "year                                         int64\n",
       "housing_prices_quar                        float64\n",
       "agpbspt                                    float64\n",
       "agrantspi                                  float64\n",
       "ahcdpi                                     float64\n",
       "ahcdpia                                    float64\n",
       "ahcdspt                                    float64\n",
       "landfree                                   float64\n",
       "ig_cons                                    float64\n",
       "ndl_housing                                float64\n",
       "fhpriv                                     float64\n",
       "fhpub                                      float64\n",
       "fhurb                                      float64\n",
       "race_boehmke_fhpub                         float64\n",
       "w_race_fair_housing_private                float64\n",
       "pubhouen                                   float64\n",
       "frent                                      float64\n",
       "regulation_housing_directstateai           float64\n",
       "regulation_housing_enabling_federal_aid    float64\n",
       "regulation_rent_control                    float64\n",
       "dtype: object"
      ]
     },
     "execution_count": 59,
     "metadata": {},
     "output_type": "execute_result"
    }
   ],
   "source": [
    "df.dtypes"
   ]
  },
  {
   "cell_type": "markdown",
   "id": "46284d80",
   "metadata": {},
   "source": [
    "### Explore Individual columns for preliminary insigh\n",
    "\n",
    "1) How many null values are present in your data?\n",
    "\n",
    "A) The data has NaNs with some columns having as high as 99.2% NaNs. This is due to the dataset being stored for data starting  in 1900 up to 2020, while some of these columns have only been collected for 3 years. "
   ]
  },
  {
   "cell_type": "markdown",
   "id": "4a989ce5",
   "metadata": {},
   "source": [
    "# Change columns to the appropriate types"
   ]
  },
  {
   "cell_type": "code",
   "execution_count": 60,
   "id": "955e4ae0",
   "metadata": {},
   "outputs": [
    {
     "data": {
      "text/plain": [
       "st                                               category\n",
       "year                                       datetime64[ns]\n",
       "housing_prices_quar                               float64\n",
       "agpbspt                                           float64\n",
       "agrantspi                                         float64\n",
       "ahcdpi                                            float64\n",
       "ahcdpia                                           float64\n",
       "ahcdspt                                           float64\n",
       "landfree                                          float64\n",
       "ig_cons                                           float64\n",
       "ndl_housing                                      category\n",
       "fhpriv                                           category\n",
       "fhpub                                            category\n",
       "fhurb                                            category\n",
       "race_boehmke_fhpub                               category\n",
       "w_race_fair_housing_private                      category\n",
       "pubhouen                                         category\n",
       "frent                                            category\n",
       "regulation_housing_directstateai                 category\n",
       "regulation_housing_enabling_federal_aid          category\n",
       "regulation_rent_control                          category\n",
       "dtype: object"
      ]
     },
     "execution_count": 60,
     "metadata": {},
     "output_type": "execute_result"
    }
   ],
   "source": [
    "#Reformat the columns to the appropriate type. Categorical, Float or Integer.\n",
    "categorical_columns = ['frent',\n",
    "                       'regulation_rent_control',\n",
    "                       'fhurb',\n",
    "                       'fhpriv',\n",
    "                       'fhpub',\n",
    "                       'ndl_housing',\n",
    "                       'st',\n",
    "                       'race_boehmke_fhpub',\n",
    "                       'regulation_housing_enabling_federal_aid',\n",
    "                       'regulation_housing_directstateai',\n",
    "                      'w_race_fair_housing_private',\n",
    "                      'pubhouen']\n",
    "\n",
    "df[categorical_columns] = df[categorical_columns].astype('category')\n",
    "df['year'] = pd.to_datetime(df['year'],format='%Y')\n",
    "df.dtypes"
   ]
  },
  {
   "cell_type": "markdown",
   "id": "fde2cf8d",
   "metadata": {},
   "source": [
    "# Change column names to a standarized method"
   ]
  },
  {
   "cell_type": "code",
   "execution_count": 61,
   "id": "dadf085e",
   "metadata": {},
   "outputs": [
    {
     "data": {
      "text/html": [
       "<div>\n",
       "<style scoped>\n",
       "    .dataframe tbody tr th:only-of-type {\n",
       "        vertical-align: middle;\n",
       "    }\n",
       "\n",
       "    .dataframe tbody tr th {\n",
       "        vertical-align: top;\n",
       "    }\n",
       "\n",
       "    .dataframe thead th {\n",
       "        text-align: right;\n",
       "    }\n",
       "</style>\n",
       "<table border=\"1\" class=\"dataframe\">\n",
       "  <thead>\n",
       "    <tr style=\"text-align: right;\">\n",
       "      <th></th>\n",
       "      <th>State</th>\n",
       "      <th>Year</th>\n",
       "      <th>Housing_Prices_Quarter</th>\n",
       "      <th>State_Expenditure_Local_Buildings</th>\n",
       "      <th>Federal_Grants</th>\n",
       "      <th>Community_Spending</th>\n",
       "      <th>Unexpected_Housing_Spending</th>\n",
       "      <th>Govt_Direct_Expenditure</th>\n",
       "      <th>Property_Rights</th>\n",
       "      <th>Number_Interest_Groups</th>\n",
       "      <th>...</th>\n",
       "      <th>Private_Fair_Housing</th>\n",
       "      <th>Public_Fair_Housing</th>\n",
       "      <th>Urban_Fair_Housing</th>\n",
       "      <th>Banned_Discrimination_Public_Housing</th>\n",
       "      <th>Banned_Discrimination_Private_Housing</th>\n",
       "      <th>Legislation_Public_Housing</th>\n",
       "      <th>Rent_Control</th>\n",
       "      <th>State_Aid_Allowed</th>\n",
       "      <th>Federal_Aid_Allowed</th>\n",
       "      <th>Prohibit_Rent_Control</th>\n",
       "    </tr>\n",
       "  </thead>\n",
       "  <tbody>\n",
       "    <tr>\n",
       "      <th>0</th>\n",
       "      <td>AK</td>\n",
       "      <td>1900-01-01</td>\n",
       "      <td>NaN</td>\n",
       "      <td>NaN</td>\n",
       "      <td>NaN</td>\n",
       "      <td>NaN</td>\n",
       "      <td>NaN</td>\n",
       "      <td>NaN</td>\n",
       "      <td>NaN</td>\n",
       "      <td>NaN</td>\n",
       "      <td>...</td>\n",
       "      <td>NaN</td>\n",
       "      <td>NaN</td>\n",
       "      <td>NaN</td>\n",
       "      <td>NaN</td>\n",
       "      <td>NaN</td>\n",
       "      <td>NaN</td>\n",
       "      <td>NaN</td>\n",
       "      <td>NaN</td>\n",
       "      <td>NaN</td>\n",
       "      <td>NaN</td>\n",
       "    </tr>\n",
       "    <tr>\n",
       "      <th>1</th>\n",
       "      <td>AK</td>\n",
       "      <td>1901-01-01</td>\n",
       "      <td>NaN</td>\n",
       "      <td>NaN</td>\n",
       "      <td>NaN</td>\n",
       "      <td>NaN</td>\n",
       "      <td>NaN</td>\n",
       "      <td>NaN</td>\n",
       "      <td>NaN</td>\n",
       "      <td>NaN</td>\n",
       "      <td>...</td>\n",
       "      <td>NaN</td>\n",
       "      <td>NaN</td>\n",
       "      <td>NaN</td>\n",
       "      <td>NaN</td>\n",
       "      <td>NaN</td>\n",
       "      <td>NaN</td>\n",
       "      <td>NaN</td>\n",
       "      <td>NaN</td>\n",
       "      <td>NaN</td>\n",
       "      <td>NaN</td>\n",
       "    </tr>\n",
       "    <tr>\n",
       "      <th>2</th>\n",
       "      <td>AK</td>\n",
       "      <td>1902-01-01</td>\n",
       "      <td>NaN</td>\n",
       "      <td>NaN</td>\n",
       "      <td>NaN</td>\n",
       "      <td>NaN</td>\n",
       "      <td>NaN</td>\n",
       "      <td>NaN</td>\n",
       "      <td>NaN</td>\n",
       "      <td>NaN</td>\n",
       "      <td>...</td>\n",
       "      <td>NaN</td>\n",
       "      <td>NaN</td>\n",
       "      <td>NaN</td>\n",
       "      <td>NaN</td>\n",
       "      <td>NaN</td>\n",
       "      <td>NaN</td>\n",
       "      <td>NaN</td>\n",
       "      <td>NaN</td>\n",
       "      <td>NaN</td>\n",
       "      <td>NaN</td>\n",
       "    </tr>\n",
       "    <tr>\n",
       "      <th>3</th>\n",
       "      <td>AK</td>\n",
       "      <td>1903-01-01</td>\n",
       "      <td>NaN</td>\n",
       "      <td>NaN</td>\n",
       "      <td>NaN</td>\n",
       "      <td>NaN</td>\n",
       "      <td>NaN</td>\n",
       "      <td>NaN</td>\n",
       "      <td>NaN</td>\n",
       "      <td>NaN</td>\n",
       "      <td>...</td>\n",
       "      <td>NaN</td>\n",
       "      <td>NaN</td>\n",
       "      <td>NaN</td>\n",
       "      <td>NaN</td>\n",
       "      <td>NaN</td>\n",
       "      <td>NaN</td>\n",
       "      <td>NaN</td>\n",
       "      <td>NaN</td>\n",
       "      <td>NaN</td>\n",
       "      <td>NaN</td>\n",
       "    </tr>\n",
       "    <tr>\n",
       "      <th>4</th>\n",
       "      <td>AK</td>\n",
       "      <td>1904-01-01</td>\n",
       "      <td>NaN</td>\n",
       "      <td>NaN</td>\n",
       "      <td>NaN</td>\n",
       "      <td>NaN</td>\n",
       "      <td>NaN</td>\n",
       "      <td>NaN</td>\n",
       "      <td>NaN</td>\n",
       "      <td>NaN</td>\n",
       "      <td>...</td>\n",
       "      <td>NaN</td>\n",
       "      <td>NaN</td>\n",
       "      <td>NaN</td>\n",
       "      <td>NaN</td>\n",
       "      <td>NaN</td>\n",
       "      <td>NaN</td>\n",
       "      <td>NaN</td>\n",
       "      <td>NaN</td>\n",
       "      <td>NaN</td>\n",
       "      <td>NaN</td>\n",
       "    </tr>\n",
       "  </tbody>\n",
       "</table>\n",
       "<p>5 rows × 21 columns</p>\n",
       "</div>"
      ],
      "text/plain": [
       "  State       Year  Housing_Prices_Quarter  State_Expenditure_Local_Buildings  \\\n",
       "0    AK 1900-01-01                     NaN                                NaN   \n",
       "1    AK 1901-01-01                     NaN                                NaN   \n",
       "2    AK 1902-01-01                     NaN                                NaN   \n",
       "3    AK 1903-01-01                     NaN                                NaN   \n",
       "4    AK 1904-01-01                     NaN                                NaN   \n",
       "\n",
       "   Federal_Grants  Community_Spending  Unexpected_Housing_Spending  \\\n",
       "0             NaN                 NaN                          NaN   \n",
       "1             NaN                 NaN                          NaN   \n",
       "2             NaN                 NaN                          NaN   \n",
       "3             NaN                 NaN                          NaN   \n",
       "4             NaN                 NaN                          NaN   \n",
       "\n",
       "   Govt_Direct_Expenditure  Property_Rights  Number_Interest_Groups  ...  \\\n",
       "0                      NaN              NaN                     NaN  ...   \n",
       "1                      NaN              NaN                     NaN  ...   \n",
       "2                      NaN              NaN                     NaN  ...   \n",
       "3                      NaN              NaN                     NaN  ...   \n",
       "4                      NaN              NaN                     NaN  ...   \n",
       "\n",
       "  Private_Fair_Housing Public_Fair_Housing Urban_Fair_Housing  \\\n",
       "0                  NaN                 NaN                NaN   \n",
       "1                  NaN                 NaN                NaN   \n",
       "2                  NaN                 NaN                NaN   \n",
       "3                  NaN                 NaN                NaN   \n",
       "4                  NaN                 NaN                NaN   \n",
       "\n",
       "  Banned_Discrimination_Public_Housing Banned_Discrimination_Private_Housing  \\\n",
       "0                                  NaN                                   NaN   \n",
       "1                                  NaN                                   NaN   \n",
       "2                                  NaN                                   NaN   \n",
       "3                                  NaN                                   NaN   \n",
       "4                                  NaN                                   NaN   \n",
       "\n",
       "  Legislation_Public_Housing Rent_Control State_Aid_Allowed  \\\n",
       "0                        NaN          NaN               NaN   \n",
       "1                        NaN          NaN               NaN   \n",
       "2                        NaN          NaN               NaN   \n",
       "3                        NaN          NaN               NaN   \n",
       "4                        NaN          NaN               NaN   \n",
       "\n",
       "  Federal_Aid_Allowed Prohibit_Rent_Control  \n",
       "0                 NaN                   NaN  \n",
       "1                 NaN                   NaN  \n",
       "2                 NaN                   NaN  \n",
       "3                 NaN                   NaN  \n",
       "4                 NaN                   NaN  \n",
       "\n",
       "[5 rows x 21 columns]"
      ]
     },
     "execution_count": 61,
     "metadata": {},
     "output_type": "execute_result"
    }
   ],
   "source": [
    "## Rename the columns according to the name dictionary\n",
    "name_dictionary = {'st':'State',\n",
    "                   'year':'Year',\n",
    "                   'housing_prices_quar':'Housing_Prices_Quarter',\n",
    "                   'fhpub':'Public_Fair_Housing',\n",
    "                   'fhpriv':'Private_Fair_Housing',\n",
    "                   'fhurb':'Urban_Fair_Housing',\n",
    "                   'frent':'Rent_Control',\n",
    "                   'agrantspi':'Federal_Grants',\n",
    "                   'agpbspt' : 'State_Expenditure_Local_Buildings',\n",
    "                   'regulation_rent_control':'Prohibit_Rent_Control',\n",
    "                   'ahcdspt':'Govt_Direct_Expenditure',\n",
    "                   'ahcdpia':'Unexpected_Housing_Spending',\n",
    "                   'ahcdpi':'Community_Spending',\n",
    "                  'ig_cons':'Number_Interest_Groups',\n",
    "                   'regulation_housing_directstateai':'State_Aid_Allowed',\n",
    "                   'regulation_housing_enabling_federal_aid':'Federal_Aid_Allowed',\n",
    "                  'w_race_fair_housing_private':'Banned_Discrimination_Private_Housing',\n",
    "                  'race_boehmke_fhpub':'Banned_Discrimination_Public_Housing',\n",
    "                  'landfree':'Property_Rights',\n",
    "                  'pubhouen':'Legislation_Public_Housing',\n",
    "                  'ndl_housing':'No_Discrimination_Laws',\n",
    "                  }\n",
    "df = df.rename(name_dictionary,axis=1)\n",
    "df.head(5)"
   ]
  },
  {
   "cell_type": "markdown",
   "id": "f8dffd3d",
   "metadata": {},
   "source": [
    "# Ideas on how to deal with NaNs\n",
    "For most categorical, we can fill in with the previous value until the category type changes. For example, Banned Discrimination Housing. When the value is 0 (no law banning discrimination), fill in 0's until we find the next 1 (a law banning discrimination), since we know that the law went from 0 -> 1 and we assume that it was always 0, unless 1. Once it's 1, then it's always 1.\n",
    "\n",
    "For Housing Prices or Number of Interest Groups, we can interpolate per state across years. \n",
    "\n",
    "Unsure how to deal with the other float data, such as governement spending, and such"
   ]
  },
  {
   "cell_type": "code",
   "execution_count": 62,
   "id": "9029aadc",
   "metadata": {},
   "outputs": [
    {
     "data": {
      "text/html": [
       "<div>\n",
       "<style scoped>\n",
       "    .dataframe tbody tr th:only-of-type {\n",
       "        vertical-align: middle;\n",
       "    }\n",
       "\n",
       "    .dataframe tbody tr th {\n",
       "        vertical-align: top;\n",
       "    }\n",
       "\n",
       "    .dataframe thead th {\n",
       "        text-align: right;\n",
       "    }\n",
       "</style>\n",
       "<table border=\"1\" class=\"dataframe\">\n",
       "  <thead>\n",
       "    <tr style=\"text-align: right;\">\n",
       "      <th></th>\n",
       "      <th>Housing_Prices_Quarter</th>\n",
       "      <th>State_Expenditure_Local_Buildings</th>\n",
       "      <th>Federal_Grants</th>\n",
       "      <th>Community_Spending</th>\n",
       "      <th>Unexpected_Housing_Spending</th>\n",
       "      <th>Govt_Direct_Expenditure</th>\n",
       "      <th>Property_Rights</th>\n",
       "      <th>Number_Interest_Groups</th>\n",
       "    </tr>\n",
       "  </thead>\n",
       "  <tbody>\n",
       "    <tr>\n",
       "      <th>count</th>\n",
       "      <td>1887.000000</td>\n",
       "      <td>2050.000000</td>\n",
       "      <td>2050.000000</td>\n",
       "      <td>2050.000000</td>\n",
       "      <td>2050.000000</td>\n",
       "      <td>2050.000000</td>\n",
       "      <td>200.000000</td>\n",
       "      <td>291.000000</td>\n",
       "    </tr>\n",
       "    <tr>\n",
       "      <th>mean</th>\n",
       "      <td>1.971235</td>\n",
       "      <td>156.122829</td>\n",
       "      <td>0.040520</td>\n",
       "      <td>0.002961</td>\n",
       "      <td>0.000757</td>\n",
       "      <td>463.645566</td>\n",
       "      <td>-0.000475</td>\n",
       "      <td>24.240550</td>\n",
       "    </tr>\n",
       "    <tr>\n",
       "      <th>std</th>\n",
       "      <td>1.130532</td>\n",
       "      <td>246.774679</td>\n",
       "      <td>0.015101</td>\n",
       "      <td>0.001859</td>\n",
       "      <td>0.001796</td>\n",
       "      <td>970.261225</td>\n",
       "      <td>0.058297</td>\n",
       "      <td>20.660904</td>\n",
       "    </tr>\n",
       "    <tr>\n",
       "      <th>min</th>\n",
       "      <td>0.437025</td>\n",
       "      <td>0.239000</td>\n",
       "      <td>0.003897</td>\n",
       "      <td>0.000000</td>\n",
       "      <td>-0.004202</td>\n",
       "      <td>0.000000</td>\n",
       "      <td>-0.181303</td>\n",
       "      <td>1.000000</td>\n",
       "    </tr>\n",
       "    <tr>\n",
       "      <th>25%</th>\n",
       "      <td>1.119725</td>\n",
       "      <td>28.634000</td>\n",
       "      <td>0.030277</td>\n",
       "      <td>0.001891</td>\n",
       "      <td>-0.000278</td>\n",
       "      <td>52.930750</td>\n",
       "      <td>-0.009172</td>\n",
       "      <td>11.500000</td>\n",
       "    </tr>\n",
       "    <tr>\n",
       "      <th>50%</th>\n",
       "      <td>1.700325</td>\n",
       "      <td>75.278500</td>\n",
       "      <td>0.037799</td>\n",
       "      <td>0.002668</td>\n",
       "      <td>0.000589</td>\n",
       "      <td>157.142500</td>\n",
       "      <td>0.015869</td>\n",
       "      <td>18.000000</td>\n",
       "    </tr>\n",
       "    <tr>\n",
       "      <th>75%</th>\n",
       "      <td>2.488200</td>\n",
       "      <td>182.850000</td>\n",
       "      <td>0.048079</td>\n",
       "      <td>0.003662</td>\n",
       "      <td>0.001574</td>\n",
       "      <td>442.672500</td>\n",
       "      <td>0.036232</td>\n",
       "      <td>32.000000</td>\n",
       "    </tr>\n",
       "    <tr>\n",
       "      <th>max</th>\n",
       "      <td>7.142125</td>\n",
       "      <td>4532.899000</td>\n",
       "      <td>0.124511</td>\n",
       "      <td>0.033172</td>\n",
       "      <td>0.028520</td>\n",
       "      <td>10898.737000</td>\n",
       "      <td>0.054736</td>\n",
       "      <td>160.000000</td>\n",
       "    </tr>\n",
       "  </tbody>\n",
       "</table>\n",
       "</div>"
      ],
      "text/plain": [
       "       Housing_Prices_Quarter  State_Expenditure_Local_Buildings  \\\n",
       "count             1887.000000                        2050.000000   \n",
       "mean                 1.971235                         156.122829   \n",
       "std                  1.130532                         246.774679   \n",
       "min                  0.437025                           0.239000   \n",
       "25%                  1.119725                          28.634000   \n",
       "50%                  1.700325                          75.278500   \n",
       "75%                  2.488200                         182.850000   \n",
       "max                  7.142125                        4532.899000   \n",
       "\n",
       "       Federal_Grants  Community_Spending  Unexpected_Housing_Spending  \\\n",
       "count     2050.000000         2050.000000                  2050.000000   \n",
       "mean         0.040520            0.002961                     0.000757   \n",
       "std          0.015101            0.001859                     0.001796   \n",
       "min          0.003897            0.000000                    -0.004202   \n",
       "25%          0.030277            0.001891                    -0.000278   \n",
       "50%          0.037799            0.002668                     0.000589   \n",
       "75%          0.048079            0.003662                     0.001574   \n",
       "max          0.124511            0.033172                     0.028520   \n",
       "\n",
       "       Govt_Direct_Expenditure  Property_Rights  Number_Interest_Groups  \n",
       "count              2050.000000       200.000000              291.000000  \n",
       "mean                463.645566        -0.000475               24.240550  \n",
       "std                 970.261225         0.058297               20.660904  \n",
       "min                   0.000000        -0.181303                1.000000  \n",
       "25%                  52.930750        -0.009172               11.500000  \n",
       "50%                 157.142500         0.015869               18.000000  \n",
       "75%                 442.672500         0.036232               32.000000  \n",
       "max               10898.737000         0.054736              160.000000  "
      ]
     },
     "execution_count": 62,
     "metadata": {},
     "output_type": "execute_result"
    }
   ],
   "source": [
    "df.describe()"
   ]
  },
  {
   "cell_type": "code",
   "execution_count": 63,
   "id": "3f8aabe0",
   "metadata": {
    "scrolled": false
   },
   "outputs": [
    {
     "data": {
      "text/plain": [
       "<AxesSubplot:xlabel='Year'>"
      ]
     },
     "execution_count": 63,
     "metadata": {},
     "output_type": "execute_result"
    },
    {
     "data": {
      "image/png": "[encoded data removed]",
      "text/plain": [
       "<Figure size 432x288 with 1 Axes>"
      ]
     },
     "metadata": {
      "needs_background": "light"
     },
     "output_type": "display_data"
    }
   ],
   "source": [
    "justMN = df.loc[df['State'] == 'MN',['Year','Number_Interest_Groups']]\n",
    "\n",
    "justMN = justMN.set_index('Year')\n",
    "justMN.interpolate(method='time',inplace=True)\n",
    "justMN.interpolate(method='backfill',direction='backward',inplace=True)\n",
    "\n",
    "justMN.reset_index(inplace = True)\n",
    "justMN.rename({'index':'Year'},axis = 1, inplace = True)\n",
    "justMN.plot(x='Year',y='Number_Interest_Groups')"
   ]
  },
  {
   "cell_type": "markdown",
   "id": "2bcf1bff",
   "metadata": {},
   "source": [
    "The above is a quick test on interpolation for housing prices/ number of interest groups. The first data is collected in 1980, and so from then on we interpolate linearly across time depending on the available data. For this method of interpolation (method = time), we need the index to be a datetime object, so we have to set the index to the year. Once this has been done, we need to fill in the NaNs for data <1980, which we just set to the latest data (value at 1980). At the end, we reset the index and rename the column to year again."
   ]
  },
  {
   "cell_type": "code",
   "execution_count": 64,
   "id": "08606f78",
   "metadata": {},
   "outputs": [],
   "source": [
    "def Fill_NaN_Linear(df,col_to_interpolate):\n",
    "    df[col_to_interpolate] = df.groupby('State')[col_to_interpolate].transform(lambda group: group.interpolate(method='time'))\n",
    "    df[col_to_interpolate] = df.groupby('State')[col_to_interpolate].transform(lambda group: group.interpolate(method='backfill'))\n",
    "    \n",
    "    return df"
   ]
  },
  {
   "cell_type": "code",
   "execution_count": 65,
   "id": "3e01c2ad",
   "metadata": {},
   "outputs": [],
   "source": [
    "df = df.set_index('Year')\n",
    "#Interpolate FORWARD in time with a linear relationship\n",
    "#Interpolate BACKWARD in time with a padding method\n",
    "\n",
    "#Transform returns a series with the same size as the original (df) and thus we can re-direct it to a column value of df2.\n",
    "df = Fill_NaN_Linear(df,'Number_Interest_Groups')\n",
    "df = Fill_NaN_Linear(df,'Housing_Prices_Quarter')\n",
    "df = Fill_NaN_Linear(df,'Community_Spending')\n",
    "df = Fill_NaN_Linear(df,'Unexpected_Housing_Spending')\n",
    "df = Fill_NaN_Linear(df,'Govt_Direct_Expenditure')\n",
    "df = Fill_NaN_Linear(df,'Property_Rights')\n",
    "df = Fill_NaN_Linear(df,'State_Expenditure_Local_Buildings')\n",
    "df = Fill_NaN_Linear(df,'Federal_Grants')\n",
    "\n",
    "df.reset_index(inplace= True)\n",
    "df.rename({'index':'Year'},axis= 1 , inplace =True)"
   ]
  },
  {
   "cell_type": "code",
   "execution_count": 66,
   "id": "80296c2e",
   "metadata": {},
   "outputs": [
    {
     "data": {
      "text/plain": [
       "<AxesSubplot:>"
      ]
     },
     "execution_count": 66,
     "metadata": {},
     "output_type": "execute_result"
    },
    {
     "data": {
      "image/png": "[encoded data removed]",
      "text/plain": [
       "<Figure size 432x288 with 1 Axes>"
      ]
     },
     "metadata": {
      "needs_background": "light"
     },
     "output_type": "display_data"
    }
   ],
   "source": [
    "df[df['State'] == 'MN']['Number_Interest_Groups'].plot()"
   ]
  },
  {
   "cell_type": "markdown",
   "id": "ffe6e19b",
   "metadata": {},
   "source": [
    "Verifying that the interpolation across the table returns the same as the interpolation across a single state (above). Matching graphs demonstrate that the interpolation performed as expected."
   ]
  },
  {
   "cell_type": "code",
   "execution_count": 67,
   "id": "6a2514f4",
   "metadata": {},
   "outputs": [],
   "source": [
    "def Fill_NaN_Categorical(df,category_to_pad):\n",
    "    df[category_to_pad] = df.groupby('State')[category_to_pad].transform(lambda group: group.interpolate(method='ffill'))\n",
    "    df[category_to_pad] = df.groupby('State')[category_to_pad].transform(lambda group: group.interpolate(method='backfill'))\n",
    "    \n",
    "    return df"
   ]
  },
  {
   "cell_type": "code",
   "execution_count": 68,
   "id": "66fbbe49",
   "metadata": {},
   "outputs": [],
   "source": [
    "#Fill the categorical data by padding forward in time, then backwards in time\n",
    "cat_cols = ['Private_Fair_Housing','No_Discrimination_Laws',\n",
    "             'Public_Fair_Housing','Urban_Fair_Housing',\n",
    "             'Banned_Discrimination_Public_Housing',\n",
    "             'Banned_Discrimination_Private_Housing',\n",
    "             'Legislation_Public_Housing','Rent_Control',\n",
    "             'State_Aid_Allowed','Federal_Aid_Allowed','Prohibit_Rent_Control']\n",
    "\n",
    "for cat in cat_cols:\n",
    "    df = Fill_NaN_Categorical(df,cat)"
   ]
  },
  {
   "cell_type": "markdown",
   "id": "c283d637",
   "metadata": {},
   "source": [
    "# Assess which categories still contain NaN values"
   ]
  },
  {
   "cell_type": "code",
   "execution_count": 69,
   "id": "d0d71590",
   "metadata": {},
   "outputs": [
    {
     "data": {
      "text/html": [
       "<div>\n",
       "<style scoped>\n",
       "    .dataframe tbody tr th:only-of-type {\n",
       "        vertical-align: middle;\n",
       "    }\n",
       "\n",
       "    .dataframe tbody tr th {\n",
       "        vertical-align: top;\n",
       "    }\n",
       "\n",
       "    .dataframe thead th {\n",
       "        text-align: right;\n",
       "    }\n",
       "</style>\n",
       "<table border=\"1\" class=\"dataframe\">\n",
       "  <thead>\n",
       "    <tr style=\"text-align: right;\">\n",
       "      <th></th>\n",
       "      <th>Category_with_NaNs</th>\n",
       "      <th>Total_NaNs</th>\n",
       "    </tr>\n",
       "    <tr>\n",
       "      <th>State</th>\n",
       "      <th></th>\n",
       "      <th></th>\n",
       "    </tr>\n",
       "  </thead>\n",
       "  <tbody>\n",
       "    <tr>\n",
       "      <th>AK</th>\n",
       "      <td>Federal_Aid_Allowed</td>\n",
       "      <td>121</td>\n",
       "    </tr>\n",
       "    <tr>\n",
       "      <th>DC</th>\n",
       "      <td>State_Expenditure_Local_Buildings</td>\n",
       "      <td>121</td>\n",
       "    </tr>\n",
       "    <tr>\n",
       "      <th>DC</th>\n",
       "      <td>Federal_Aid_Allowed</td>\n",
       "      <td>121</td>\n",
       "    </tr>\n",
       "    <tr>\n",
       "      <th>DC</th>\n",
       "      <td>Rent_Control</td>\n",
       "      <td>121</td>\n",
       "    </tr>\n",
       "    <tr>\n",
       "      <th>DC</th>\n",
       "      <td>Legislation_Public_Housing</td>\n",
       "      <td>121</td>\n",
       "    </tr>\n",
       "    <tr>\n",
       "      <th>DC</th>\n",
       "      <td>Banned_Discrimination_Private_Housing</td>\n",
       "      <td>121</td>\n",
       "    </tr>\n",
       "    <tr>\n",
       "      <th>DC</th>\n",
       "      <td>Banned_Discrimination_Public_Housing</td>\n",
       "      <td>121</td>\n",
       "    </tr>\n",
       "    <tr>\n",
       "      <th>DC</th>\n",
       "      <td>Urban_Fair_Housing</td>\n",
       "      <td>121</td>\n",
       "    </tr>\n",
       "    <tr>\n",
       "      <th>DC</th>\n",
       "      <td>Public_Fair_Housing</td>\n",
       "      <td>121</td>\n",
       "    </tr>\n",
       "    <tr>\n",
       "      <th>DC</th>\n",
       "      <td>Private_Fair_Housing</td>\n",
       "      <td>121</td>\n",
       "    </tr>\n",
       "    <tr>\n",
       "      <th>DC</th>\n",
       "      <td>Number_Interest_Groups</td>\n",
       "      <td>121</td>\n",
       "    </tr>\n",
       "    <tr>\n",
       "      <th>DC</th>\n",
       "      <td>Property_Rights</td>\n",
       "      <td>121</td>\n",
       "    </tr>\n",
       "    <tr>\n",
       "      <th>DC</th>\n",
       "      <td>Govt_Direct_Expenditure</td>\n",
       "      <td>121</td>\n",
       "    </tr>\n",
       "    <tr>\n",
       "      <th>DC</th>\n",
       "      <td>Unexpected_Housing_Spending</td>\n",
       "      <td>121</td>\n",
       "    </tr>\n",
       "    <tr>\n",
       "      <th>DC</th>\n",
       "      <td>Community_Spending</td>\n",
       "      <td>121</td>\n",
       "    </tr>\n",
       "    <tr>\n",
       "      <th>DC</th>\n",
       "      <td>Federal_Grants</td>\n",
       "      <td>121</td>\n",
       "    </tr>\n",
       "    <tr>\n",
       "      <th>HI</th>\n",
       "      <td>Federal_Aid_Allowed</td>\n",
       "      <td>121</td>\n",
       "    </tr>\n",
       "    <tr>\n",
       "      <th>WY</th>\n",
       "      <td>Prohibit_Rent_Control</td>\n",
       "      <td>121</td>\n",
       "    </tr>\n",
       "  </tbody>\n",
       "</table>\n",
       "</div>"
      ],
      "text/plain": [
       "                          Category_with_NaNs  Total_NaNs\n",
       "State                                                   \n",
       "AK                       Federal_Aid_Allowed         121\n",
       "DC         State_Expenditure_Local_Buildings         121\n",
       "DC                       Federal_Aid_Allowed         121\n",
       "DC                              Rent_Control         121\n",
       "DC                Legislation_Public_Housing         121\n",
       "DC     Banned_Discrimination_Private_Housing         121\n",
       "DC      Banned_Discrimination_Public_Housing         121\n",
       "DC                        Urban_Fair_Housing         121\n",
       "DC                       Public_Fair_Housing         121\n",
       "DC                      Private_Fair_Housing         121\n",
       "DC                    Number_Interest_Groups         121\n",
       "DC                           Property_Rights         121\n",
       "DC                   Govt_Direct_Expenditure         121\n",
       "DC               Unexpected_Housing_Spending         121\n",
       "DC                        Community_Spending         121\n",
       "DC                            Federal_Grants         121\n",
       "HI                       Federal_Aid_Allowed         121\n",
       "WY                     Prohibit_Rent_Control         121"
      ]
     },
     "execution_count": 69,
     "metadata": {},
     "output_type": "execute_result"
    }
   ],
   "source": [
    "#Identify categorical columns that still contains NaNs\n",
    "NaN_table = df.drop(['State','Year'],axis = 1).isna().groupby(df.State,sort=False).sum()\n",
    "\n",
    "NaN_table = pd.melt(NaN_table,id_vars=None, value_vars=NaN_table.columns,ignore_index=False,var_name = 'Category_with_NaNs',value_name='Total_NaNs')\n",
    "NaN_table[NaN_table['Total_NaNs'] > 0].sort_values('State')"
   ]
  },
  {
   "cell_type": "markdown",
   "id": "51443975",
   "metadata": {},
   "source": [
    "Based on the table above, it appears that DC in general does not have much data, since for the majority of the categories all of them still remain NaN. I recommend dropping DC as a metric. Afterwards, we have to assess 3 more aspects. Arkansas for Federal Aid, Hawaii for Federal Aid, and Wyoming for Prohibit Rent Control."
   ]
  },
  {
   "cell_type": "code",
   "execution_count": 70,
   "id": "a95bebcc",
   "metadata": {},
   "outputs": [],
   "source": [
    "df.drop(df[df['State'] == 'DC'].index,axis=0, inplace =True)"
   ]
  },
  {
   "cell_type": "markdown",
   "id": "cfabac13",
   "metadata": {},
   "source": [
    "After talking with the team, we decided to drop Alaska and Hawaii regarding the federal aid allowed. Since we can't drop it, I will classify it as a separate category (2)"
   ]
  },
  {
   "cell_type": "code",
   "execution_count": 71,
   "id": "7a733f81",
   "metadata": {},
   "outputs": [],
   "source": [
    "df['Prohibit_Rent_Control'] = df['Prohibit_Rent_Control'].cat.add_categories(10.0)\n",
    "df['Prohibit_Rent_Control'].fillna(10,inplace = True)"
   ]
  },
  {
   "cell_type": "code",
   "execution_count": 72,
   "id": "87f17ac0",
   "metadata": {},
   "outputs": [],
   "source": [
    "df['Federal_Aid_Allowed'] = df['Federal_Aid_Allowed'].cat.add_categories(10.0)\n",
    "df['Federal_Aid_Allowed'].fillna(10,inplace = True)"
   ]
  },
  {
   "cell_type": "code",
   "execution_count": 73,
   "id": "eafa0f9d",
   "metadata": {},
   "outputs": [
    {
     "data": {
      "text/html": [
       "<div>\n",
       "<style scoped>\n",
       "    .dataframe tbody tr th:only-of-type {\n",
       "        vertical-align: middle;\n",
       "    }\n",
       "\n",
       "    .dataframe tbody tr th {\n",
       "        vertical-align: top;\n",
       "    }\n",
       "\n",
       "    .dataframe thead th {\n",
       "        text-align: right;\n",
       "    }\n",
       "</style>\n",
       "<table border=\"1\" class=\"dataframe\">\n",
       "  <thead>\n",
       "    <tr style=\"text-align: right;\">\n",
       "      <th></th>\n",
       "      <th>Category_with_NaNs</th>\n",
       "      <th>Total_NaNs</th>\n",
       "    </tr>\n",
       "    <tr>\n",
       "      <th>State</th>\n",
       "      <th></th>\n",
       "      <th></th>\n",
       "    </tr>\n",
       "  </thead>\n",
       "  <tbody>\n",
       "  </tbody>\n",
       "</table>\n",
       "</div>"
      ],
      "text/plain": [
       "Empty DataFrame\n",
       "Columns: [Category_with_NaNs, Total_NaNs]\n",
       "Index: []"
      ]
     },
     "execution_count": 73,
     "metadata": {},
     "output_type": "execute_result"
    }
   ],
   "source": [
    "#Check for NaNs once last time\n",
    "NaN_table = df.drop(['State','Year'],axis = 1).isna().groupby(df.State,sort=False).sum()\n",
    "\n",
    "NaN_table = pd.melt(NaN_table,id_vars=None, value_vars=NaN_table.columns,ignore_index=False,var_name = 'Category_with_NaNs',value_name='Total_NaNs')\n",
    "NaN_table[NaN_table['Total_NaNs'] > 0].sort_values('State')"
   ]
  },
  {
   "cell_type": "markdown",
   "id": "8013225f",
   "metadata": {},
   "source": [
    "Compare the statistics after all the cleaning to ensure that the general trends still hold"
   ]
  },
  {
   "cell_type": "code",
   "execution_count": 74,
   "id": "f4b1ecc5",
   "metadata": {
    "scrolled": true
   },
   "outputs": [
    {
     "data": {
      "text/html": [
       "<div>\n",
       "<style scoped>\n",
       "    .dataframe tbody tr th:only-of-type {\n",
       "        vertical-align: middle;\n",
       "    }\n",
       "\n",
       "    .dataframe tbody tr th {\n",
       "        vertical-align: top;\n",
       "    }\n",
       "\n",
       "    .dataframe thead th {\n",
       "        text-align: right;\n",
       "    }\n",
       "</style>\n",
       "<table border=\"1\" class=\"dataframe\">\n",
       "  <thead>\n",
       "    <tr style=\"text-align: right;\">\n",
       "      <th></th>\n",
       "      <th>Housing_Prices_Quarter</th>\n",
       "      <th>State_Expenditure_Local_Buildings</th>\n",
       "      <th>Federal_Grants</th>\n",
       "      <th>Community_Spending</th>\n",
       "      <th>Unexpected_Housing_Spending</th>\n",
       "      <th>Govt_Direct_Expenditure</th>\n",
       "      <th>Property_Rights</th>\n",
       "      <th>Number_Interest_Groups</th>\n",
       "    </tr>\n",
       "  </thead>\n",
       "  <tbody>\n",
       "    <tr>\n",
       "      <th>count</th>\n",
       "      <td>6050.000000</td>\n",
       "      <td>6050.000000</td>\n",
       "      <td>6050.000000</td>\n",
       "      <td>6050.000000</td>\n",
       "      <td>6050.000000</td>\n",
       "      <td>6050.000000</td>\n",
       "      <td>6050.000000</td>\n",
       "      <td>6050.000000</td>\n",
       "    </tr>\n",
       "    <tr>\n",
       "      <th>mean</th>\n",
       "      <td>1.232796</td>\n",
       "      <td>75.413082</td>\n",
       "      <td>0.027682</td>\n",
       "      <td>0.001905</td>\n",
       "      <td>0.000304</td>\n",
       "      <td>217.676647</td>\n",
       "      <td>-0.001635</td>\n",
       "      <td>22.743043</td>\n",
       "    </tr>\n",
       "    <tr>\n",
       "      <th>std</th>\n",
       "      <td>1.062277</td>\n",
       "      <td>181.022173</td>\n",
       "      <td>0.017060</td>\n",
       "      <td>0.001762</td>\n",
       "      <td>0.001596</td>\n",
       "      <td>698.998689</td>\n",
       "      <td>0.057881</td>\n",
       "      <td>18.517639</td>\n",
       "    </tr>\n",
       "    <tr>\n",
       "      <th>min</th>\n",
       "      <td>0.437025</td>\n",
       "      <td>0.239000</td>\n",
       "      <td>0.003897</td>\n",
       "      <td>0.000000</td>\n",
       "      <td>-0.004202</td>\n",
       "      <td>0.000000</td>\n",
       "      <td>-0.181303</td>\n",
       "      <td>1.000000</td>\n",
       "    </tr>\n",
       "    <tr>\n",
       "      <th>25%</th>\n",
       "      <td>0.626625</td>\n",
       "      <td>4.089000</td>\n",
       "      <td>0.014192</td>\n",
       "      <td>0.000551</td>\n",
       "      <td>-0.000717</td>\n",
       "      <td>1.883000</td>\n",
       "      <td>-0.010240</td>\n",
       "      <td>12.000000</td>\n",
       "    </tr>\n",
       "    <tr>\n",
       "      <th>50%</th>\n",
       "      <td>0.681125</td>\n",
       "      <td>14.010500</td>\n",
       "      <td>0.024246</td>\n",
       "      <td>0.001649</td>\n",
       "      <td>-0.000127</td>\n",
       "      <td>15.070000</td>\n",
       "      <td>0.015869</td>\n",
       "      <td>18.000000</td>\n",
       "    </tr>\n",
       "    <tr>\n",
       "      <th>75%</th>\n",
       "      <td>1.455594</td>\n",
       "      <td>56.693805</td>\n",
       "      <td>0.038055</td>\n",
       "      <td>0.002778</td>\n",
       "      <td>0.001218</td>\n",
       "      <td>130.503625</td>\n",
       "      <td>0.035147</td>\n",
       "      <td>26.000000</td>\n",
       "    </tr>\n",
       "    <tr>\n",
       "      <th>max</th>\n",
       "      <td>7.142125</td>\n",
       "      <td>4532.899000</td>\n",
       "      <td>0.124511</td>\n",
       "      <td>0.033172</td>\n",
       "      <td>0.028520</td>\n",
       "      <td>10898.737000</td>\n",
       "      <td>0.054736</td>\n",
       "      <td>160.000000</td>\n",
       "    </tr>\n",
       "  </tbody>\n",
       "</table>\n",
       "</div>"
      ],
      "text/plain": [
       "       Housing_Prices_Quarter  State_Expenditure_Local_Buildings  \\\n",
       "count             6050.000000                        6050.000000   \n",
       "mean                 1.232796                          75.413082   \n",
       "std                  1.062277                         181.022173   \n",
       "min                  0.437025                           0.239000   \n",
       "25%                  0.626625                           4.089000   \n",
       "50%                  0.681125                          14.010500   \n",
       "75%                  1.455594                          56.693805   \n",
       "max                  7.142125                        4532.899000   \n",
       "\n",
       "       Federal_Grants  Community_Spending  Unexpected_Housing_Spending  \\\n",
       "count     6050.000000         6050.000000                  6050.000000   \n",
       "mean         0.027682            0.001905                     0.000304   \n",
       "std          0.017060            0.001762                     0.001596   \n",
       "min          0.003897            0.000000                    -0.004202   \n",
       "25%          0.014192            0.000551                    -0.000717   \n",
       "50%          0.024246            0.001649                    -0.000127   \n",
       "75%          0.038055            0.002778                     0.001218   \n",
       "max          0.124511            0.033172                     0.028520   \n",
       "\n",
       "       Govt_Direct_Expenditure  Property_Rights  Number_Interest_Groups  \n",
       "count              6050.000000      6050.000000             6050.000000  \n",
       "mean                217.676647        -0.001635               22.743043  \n",
       "std                 698.998689         0.057881               18.517639  \n",
       "min                   0.000000        -0.181303                1.000000  \n",
       "25%                   1.883000        -0.010240               12.000000  \n",
       "50%                  15.070000         0.015869               18.000000  \n",
       "75%                 130.503625         0.035147               26.000000  \n",
       "max               10898.737000         0.054736              160.000000  "
      ]
     },
     "execution_count": 74,
     "metadata": {},
     "output_type": "execute_result"
    }
   ],
   "source": [
    "df.describe()"
   ]
  },
  {
   "cell_type": "code",
   "execution_count": 75,
   "id": "f4ca029c",
   "metadata": {},
   "outputs": [],
   "source": [
    "#for title, group in df.groupby('State'):\n",
    "#    group.plot(x='Year',y ='Housing_Prices_Quarter', title=title)"
   ]
  },
  {
   "cell_type": "code",
   "execution_count": 76,
   "id": "c9dacbbb",
   "metadata": {},
   "outputs": [],
   "source": [
    "def time_series_categorical_plot(df,category,group_cat='Year'):\n",
    "    time_counts =  df.groupby(group_cat)[category].value_counts(normalize=True)\n",
    "    \n",
    "    _,ax = plt.subplots(figsize=(8,6))\n",
    "    legends = ['without','with','']\n",
    "    \n",
    "    for cat in df[category].unique().sort_values(ascending=True):\n",
    "        #pdb.set_trace()\n",
    "        time_counts[:,cat].plot(ax=ax,title=category)\n",
    "        \n",
    "    ax.set_ylabel('Percentage of States with/without Policy'); \n",
    "    ax.legend(legends)"
   ]
  },
  {
   "cell_type": "code",
   "execution_count": 77,
   "id": "4071c570",
   "metadata": {},
   "outputs": [
    {
     "data": {
      "image/png": "[encoded data removed]",
      "text/plain": [
       "<Figure size 576x432 with 1 Axes>"
      ]
     },
     "metadata": {
      "needs_background": "light"
     },
     "output_type": "display_data"
    },
    {
     "data": {
      "image/png": "[encoded data removed]",
      "text/plain": [
       "<Figure size 576x432 with 1 Axes>"
      ]
     },
     "metadata": {
      "needs_background": "light"
     },
     "output_type": "display_data"
    },
    {
     "data": {
      "image/png": "[encoded data removed]",
      "text/plain": [
       "<Figure size 576x432 with 1 Axes>"
      ]
     },
     "metadata": {
      "needs_background": "light"
     },
     "output_type": "display_data"
    },
    {
     "data": {
      "image/png": "[encoded data removed]",
      "text/plain": [
       "<Figure size 576x432 with 1 Axes>"
      ]
     },
     "metadata": {
      "needs_background": "light"
     },
     "output_type": "display_data"
    },
    {
     "data": {
      "image/png": "[encoded data removed]",
      "text/plain": [
       "<Figure size 576x432 with 1 Axes>"
      ]
     },
     "metadata": {
      "needs_background": "light"
     },
     "output_type": "display_data"
    },
    {
     "data": {
      "image/png": "[encoded data removed]",
      "text/plain": [
       "<Figure size 576x432 with 1 Axes>"
      ]
     },
     "metadata": {
      "needs_background": "light"
     },
     "output_type": "display_data"
    },
    {
     "data": {
      "image/png": "[encoded data removed]",
      "text/plain": [
       "<Figure size 576x432 with 1 Axes>"
      ]
     },
     "metadata": {
      "needs_background": "light"
     },
     "output_type": "display_data"
    },
    {
     "data": {
      "image/png": "[encoded data removed]",
      "text/plain": [
       "<Figure size 576x432 with 1 Axes>"
      ]
     },
     "metadata": {
      "needs_background": "light"
     },
     "output_type": "display_data"
    },
    {
     "data": {
      "image/png": "[encoded data removed]",
      "text/plain": [
       "<Figure size 576x432 with 1 Axes>"
      ]
     },
     "metadata": {
      "needs_background": "light"
     },
     "output_type": "display_data"
    },
    {
     "data": {
      "image/png": "[encoded data removed]",
      "text/plain": [
       "<Figure size 576x432 with 1 Axes>"
      ]
     },
     "metadata": {
      "needs_background": "light"
     },
     "output_type": "display_data"
    },
    {
     "data": {
      "image/png": "[encoded data removed]",
      "text/plain": [
       "<Figure size 576x432 with 1 Axes>"
      ]
     },
     "metadata": {
      "needs_background": "light"
     },
     "output_type": "display_data"
    }
   ],
   "source": [
    "for cat in cat_cols:\n",
    "    time_series_categorical_plot(df,cat)"
   ]
  },
  {
   "cell_type": "markdown",
   "id": "260303d4",
   "metadata": {},
   "source": [
    "### Rent Control\n",
    "\n",
    "1) Rent control only existed in a few states and no state has changed its policy.\n",
    "\n",
    "2) States that have implemented rent control (California, NY, NJ, MD) have had an increase in housing prices. The rate appears much higher for these states than others.\n",
    "\n",
    "3) It appears we will have to explore the other variables to see if state intervention can aid in the housing prices. "
   ]
  },
  {
   "cell_type": "code",
   "execution_count": 78,
   "id": "8ef8b8e5",
   "metadata": {
    "scrolled": true
   },
   "outputs": [
    {
     "data": {
      "text/plain": [
       "<matplotlib.legend.Legend at 0x21137208430>"
      ]
     },
     "execution_count": 78,
     "metadata": {},
     "output_type": "execute_result"
    },
    {
     "data": {
      "image/png": "[encoded data removed]",
      "text/plain": [
       "<Figure size 432x288 with 1 Axes>"
      ]
     },
     "metadata": {
      "needs_background": "light"
     },
     "output_type": "display_data"
    }
   ],
   "source": [
    "fig,ax = plt.subplots(nrows=1,ncols=1)\n",
    "df[df['Rent_Control'] == 1.0].groupby('Year').mean().plot(y = 'Housing_Prices_Quarter',ax = ax)\n",
    "df[df['Rent_Control'] == 0.0].groupby('Year').mean().plot(y = 'Housing_Prices_Quarter',ax = ax)\n",
    "plt.legend(['Rent Control','No Rent Control'])"
   ]
  },
  {
   "cell_type": "code",
   "execution_count": 79,
   "id": "0acdfab8",
   "metadata": {},
   "outputs": [
    {
     "data": {
      "image/png": "[encoded data removed]",
      "text/plain": [
       "<Figure size 432x288 with 1 Axes>"
      ]
     },
     "metadata": {
      "needs_background": "light"
     },
     "output_type": "display_data"
    }
   ],
   "source": [
    "cat= 'Rent_Control'\n",
    "\n",
    "df[cat] = df[cat].astype(float)\n",
    "sms = df.groupby('Year').sum().plot(y = cat)\n",
    "df[cat] = df[cat].astype('category')"
   ]
  },
  {
   "cell_type": "code",
   "execution_count": 80,
   "id": "40b67912",
   "metadata": {},
   "outputs": [
    {
     "data": {
      "image/png": "[encoded data removed]",
      "text/plain": [
       "<Figure size 432x288 with 1 Axes>"
      ]
     },
     "metadata": {
      "needs_background": "light"
     },
     "output_type": "display_data"
    }
   ],
   "source": [
    "cat= 'Prohibit_Rent_Control'\n",
    "\n",
    "df[cat] = df[cat].astype(float)\n",
    "sms = df.groupby('Year').sum().plot(y = cat)\n",
    "df[cat] = df[cat].astype('category')"
   ]
  },
  {
   "cell_type": "code",
   "execution_count": 81,
   "id": "7ae0d940",
   "metadata": {},
   "outputs": [
    {
     "data": {
      "text/plain": [
       "['CA', 'MD', 'NJ', 'NY']\n",
       "Categories (51, object): ['AK', 'AL', 'AR', 'AZ', ..., 'WA', 'WI', 'WV', 'WY']"
      ]
     },
     "execution_count": 81,
     "metadata": {},
     "output_type": "execute_result"
    }
   ],
   "source": [
    "df[df['Rent_Control'] == 1.0]['State'].unique()"
   ]
  },
  {
   "cell_type": "code",
   "execution_count": 82,
   "id": "9ae911cf",
   "metadata": {},
   "outputs": [],
   "source": [
    "df.to_csv('cleaned_public_policy.csv',index = False)"
   ]
  },
  {
   "cell_type": "markdown",
   "id": "02762619",
   "metadata": {},
   "source": [
    "Interestingly the number of interest group almost linearly correlates with increased housing prices."
   ]
  },
  {
   "cell_type": "code",
   "execution_count": 65,
   "id": "5eabc6f7",
   "metadata": {},
   "outputs": [
    {
     "data": {
      "text/plain": [
       "<AxesSubplot:xlabel='Number_Interest_Groups', ylabel='Housing_Prices_Quarter'>"
      ]
     },
     "execution_count": 65,
     "metadata": {},
     "output_type": "execute_result"
    },
    {
     "data": {
      "image/png": "[encoded data removed]",
      "text/plain": [
       "<Figure size 432x288 with 1 Axes>"
      ]
     },
     "metadata": {
      "needs_background": "light"
     },
     "output_type": "display_data"
    }
   ],
   "source": [
    "df.plot.scatter(x='Number_Interest_Groups',y = 'Housing_Prices_Quarter')"
   ]
  },
  {
   "cell_type": "code",
   "execution_count": 66,
   "id": "4eb84209",
   "metadata": {},
   "outputs": [],
   "source": [
    "#for name,gp in df.groupby('State'):\n",
    "   # gp.plot.scatter(x = 'Number_Interest_Groups',y = 'Housing_Prices_Quarter',title=name)"
   ]
  }
 ],
 "metadata": {
  "kernelspec": {
   "display_name": "Python 3",
   "language": "python",
   "name": "python3"
  },
  "language_info": {
   "codemirror_mode": {
    "name": "ipython",
    "version": 3
   },
   "file_extension": ".py",
   "mimetype": "text/x-python",
   "name": "python",
   "nbconvert_exporter": "python",
   "pygments_lexer": "ipython3",
   "version": "3.8.9"
  }
 },
 "nbformat": 4,
 "nbformat_minor": 5
}
