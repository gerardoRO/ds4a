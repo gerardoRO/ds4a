{
 "cells": [
  {
   "cell_type": "code",
   "execution_count": 50,
   "metadata": {},
   "outputs": [],
   "source": [
    "import pandas as pd\n",
    "import numpy as np\n",
    "import random\n",
    "\n",
    "import matplotlib.pyplot as plt\n",
    "import seaborn as sns\n",
    "\n",
    "\n",
    "import sklearn \n",
    "from sklearn.model_selection import cross_val_score, train_test_split\n",
    "from sklearn.preprocessing import OneHotEncoder, StandardScaler\n",
    "\n",
    "from sklearn.linear_model import LinearRegression, SGDRegressor\n",
    "from sklearn.metrics import mean_squared_error, r2_score\n",
    "from sklearn.tree import DecisionTreeRegressor\n",
    "from sklearn.ensemble import RandomForestRegressor"
   ]
  },
  {
   "cell_type": "code",
   "execution_count": 9,
   "metadata": {},
   "outputs": [],
   "source": [
    "def My_LinReg(X_train,X_test,y_train,y_test):\n",
    "    linreg = LinearRegression()\n",
    "    linreg.fit(X_train,y_train)\n",
    "    y_pred = linreg.predict(X_test)\n",
    "    linreg_score = np.sqrt(mean_squared_error(y_test,y_pred))\n",
    "\n",
    "    print(f'Unconstrained Linear Regression RMSE: {linreg_score}');\n",
    "    plt.scatter(y_pred,y_test)\n",
    "    plt.plot([0,y_pred.max()],[0,y_pred.max()],color='red');\n",
    "    plt.title(r2_score(y_test,y_pred))\n",
    "    return linreg"
   ]
  },
  {
   "cell_type": "code",
   "execution_count": 51,
   "metadata": {},
   "outputs": [],
   "source": [
    "def my_SGD(X_train,X_test,y_train,y_test):\n",
    "    sgdreg = SGDRegressor(penalty= 'elasticnet',l1_ratio = .5,random_state= 42)\n",
    "    sgdreg.fit(X_train,y_train)\n",
    "    y_pred = sgdreg.predict(X_test)\n",
    "    sgdreg_score = np.sqrt(mean_squared_error(y_test,y_pred))\n",
    "\n",
    "    print(f'SGD Regression RMSE: {sgdreg_score}');\n",
    "    plt.scatter(y_pred,y_test)\n",
    "    plt.plot([0,y_pred.max()],[0,y_pred.max()],color='red');\n",
    "    plt.title(r2_score(y_test,y_pred))"
   ]
  },
  {
   "cell_type": "code",
   "execution_count": 10,
   "metadata": {},
   "outputs": [],
   "source": [
    "def my_Forest(X_train,X_test,y_train,y_test):\n",
    "    forest_reg = RandomForestRegressor()\n",
    "    forest_reg.fit(X_train,y_train)\n",
    "    y_pred = forest_reg.predict(X_test)\n",
    "\n",
    "    forest_reg_score = np.sqrt(mean_squared_error(y_test,y_pred))\n",
    "    print(f'SGD Regression RMSE: {forest_reg_score}');\n",
    "\n",
    "    plt.scatter(y_pred,y_test)\n",
    "    plt.plot([0,y_pred.max()],[0,y_pred.max()],color='red')\n",
    "    plt.title(r2_score(y_test,y_pred))\n"
   ]
  },
  {
   "cell_type": "code",
   "execution_count": 59,
   "metadata": {},
   "outputs": [],
   "source": [
    "def my_mini_batch(model,X_train,X_val,y_train,y_val,batch_size,iters):\n",
    "    batch_indx = random.sample(range(len(X_train)),int(len(X_train)*batch_size / 100))\n",
    "    pred_loss,val_loss = [],[]\n",
    "    \n",
    "    for i in range(iters):\n",
    "        subX = X_train.iloc[batch_indx]\n",
    "        subY = y_train.iloc[batch_indx]\n",
    "\n",
    "        model.partial_fit(subX,subY)\n",
    "\n",
    "            \n",
    "        y_pred_train = model.predict(subX)\n",
    "        pred_loss.append(np.sqrt(mean_squared_error(subY,y_pred_train)))\n",
    "        \n",
    "        y_pred_val = model.predict(X_val)\n",
    "        val_loss.append(np.sqrt(mean_squared_error(y_val,y_pred_val)))\n",
    "        \n",
    "        if i % 100 == 0:\n",
    "            print(f'Validation loss: {val_loss[i]}')\n",
    "    \n",
    "    plt.plot(range(iters),pred_loss,color ='red',label='Training Loss')\n",
    "    plt.plot(range(iters),val_loss,color = 'blue',label = 'Validation Loss')\n",
    "    plt.legend()\n",
    "    return model"
   ]
  },
  {
   "cell_type": "code",
   "execution_count": 31,
   "metadata": {},
   "outputs": [
    {
     "name": "stdout",
     "output_type": "stream",
     "text": [
      "(20640, 10)\n"
     ]
    },
    {
     "data": {
      "text/html": [
       "<div>\n",
       "<style scoped>\n",
       "    .dataframe tbody tr th:only-of-type {\n",
       "        vertical-align: middle;\n",
       "    }\n",
       "\n",
       "    .dataframe tbody tr th {\n",
       "        vertical-align: top;\n",
       "    }\n",
       "\n",
       "    .dataframe thead th {\n",
       "        text-align: right;\n",
       "    }\n",
       "</style>\n",
       "<table border=\"1\" class=\"dataframe\">\n",
       "  <thead>\n",
       "    <tr style=\"text-align: right;\">\n",
       "      <th></th>\n",
       "      <th>longitude</th>\n",
       "      <th>latitude</th>\n",
       "      <th>housing_median_age</th>\n",
       "      <th>total_rooms</th>\n",
       "      <th>total_bedrooms</th>\n",
       "      <th>population</th>\n",
       "      <th>households</th>\n",
       "      <th>median_income</th>\n",
       "      <th>median_house_value</th>\n",
       "      <th>ocean_proximity</th>\n",
       "    </tr>\n",
       "  </thead>\n",
       "  <tbody>\n",
       "    <tr>\n",
       "      <th>15692</th>\n",
       "      <td>-122.44</td>\n",
       "      <td>37.79</td>\n",
       "      <td>52.0</td>\n",
       "      <td>2045.0</td>\n",
       "      <td>353.0</td>\n",
       "      <td>722.0</td>\n",
       "      <td>327.0</td>\n",
       "      <td>8.0755</td>\n",
       "      <td>500001.0</td>\n",
       "      <td>NEAR BAY</td>\n",
       "    </tr>\n",
       "    <tr>\n",
       "      <th>13846</th>\n",
       "      <td>-117.35</td>\n",
       "      <td>34.50</td>\n",
       "      <td>10.0</td>\n",
       "      <td>2163.0</td>\n",
       "      <td>392.0</td>\n",
       "      <td>1174.0</td>\n",
       "      <td>362.0</td>\n",
       "      <td>3.3750</td>\n",
       "      <td>98000.0</td>\n",
       "      <td>INLAND</td>\n",
       "    </tr>\n",
       "    <tr>\n",
       "      <th>10218</th>\n",
       "      <td>-117.88</td>\n",
       "      <td>33.89</td>\n",
       "      <td>18.0</td>\n",
       "      <td>1616.0</td>\n",
       "      <td>532.0</td>\n",
       "      <td>866.0</td>\n",
       "      <td>496.0</td>\n",
       "      <td>3.6435</td>\n",
       "      <td>119100.0</td>\n",
       "      <td>&lt;1H OCEAN</td>\n",
       "    </tr>\n",
       "    <tr>\n",
       "      <th>18698</th>\n",
       "      <td>-122.38</td>\n",
       "      <td>40.58</td>\n",
       "      <td>36.0</td>\n",
       "      <td>1808.0</td>\n",
       "      <td>384.0</td>\n",
       "      <td>807.0</td>\n",
       "      <td>383.0</td>\n",
       "      <td>1.8375</td>\n",
       "      <td>74800.0</td>\n",
       "      <td>INLAND</td>\n",
       "    </tr>\n",
       "    <tr>\n",
       "      <th>11239</th>\n",
       "      <td>-117.96</td>\n",
       "      <td>33.82</td>\n",
       "      <td>19.0</td>\n",
       "      <td>1199.0</td>\n",
       "      <td>251.0</td>\n",
       "      <td>730.0</td>\n",
       "      <td>276.0</td>\n",
       "      <td>3.6422</td>\n",
       "      <td>209400.0</td>\n",
       "      <td>&lt;1H OCEAN</td>\n",
       "    </tr>\n",
       "    <tr>\n",
       "      <th>16962</th>\n",
       "      <td>-122.31</td>\n",
       "      <td>37.54</td>\n",
       "      <td>45.0</td>\n",
       "      <td>1222.0</td>\n",
       "      <td>220.0</td>\n",
       "      <td>492.0</td>\n",
       "      <td>205.0</td>\n",
       "      <td>5.5390</td>\n",
       "      <td>396900.0</td>\n",
       "      <td>NEAR OCEAN</td>\n",
       "    </tr>\n",
       "    <tr>\n",
       "      <th>6376</th>\n",
       "      <td>-118.03</td>\n",
       "      <td>34.15</td>\n",
       "      <td>43.0</td>\n",
       "      <td>1694.0</td>\n",
       "      <td>283.0</td>\n",
       "      <td>674.0</td>\n",
       "      <td>267.0</td>\n",
       "      <td>4.1797</td>\n",
       "      <td>486800.0</td>\n",
       "      <td>INLAND</td>\n",
       "    </tr>\n",
       "    <tr>\n",
       "      <th>14766</th>\n",
       "      <td>-117.10</td>\n",
       "      <td>32.58</td>\n",
       "      <td>33.0</td>\n",
       "      <td>393.0</td>\n",
       "      <td>76.0</td>\n",
       "      <td>330.0</td>\n",
       "      <td>80.0</td>\n",
       "      <td>4.1029</td>\n",
       "      <td>122700.0</td>\n",
       "      <td>NEAR OCEAN</td>\n",
       "    </tr>\n",
       "    <tr>\n",
       "      <th>19764</th>\n",
       "      <td>-122.14</td>\n",
       "      <td>40.07</td>\n",
       "      <td>31.0</td>\n",
       "      <td>2053.0</td>\n",
       "      <td>465.0</td>\n",
       "      <td>1193.0</td>\n",
       "      <td>447.0</td>\n",
       "      <td>1.4923</td>\n",
       "      <td>44400.0</td>\n",
       "      <td>INLAND</td>\n",
       "    </tr>\n",
       "    <tr>\n",
       "      <th>13104</th>\n",
       "      <td>-121.32</td>\n",
       "      <td>38.41</td>\n",
       "      <td>17.0</td>\n",
       "      <td>4401.0</td>\n",
       "      <td>655.0</td>\n",
       "      <td>1970.0</td>\n",
       "      <td>639.0</td>\n",
       "      <td>5.8239</td>\n",
       "      <td>247500.0</td>\n",
       "      <td>INLAND</td>\n",
       "    </tr>\n",
       "  </tbody>\n",
       "</table>\n",
       "</div>"
      ],
      "text/plain": [
       "       longitude  latitude  housing_median_age  total_rooms  total_bedrooms  \\\n",
       "15692    -122.44     37.79                52.0       2045.0           353.0   \n",
       "13846    -117.35     34.50                10.0       2163.0           392.0   \n",
       "10218    -117.88     33.89                18.0       1616.0           532.0   \n",
       "18698    -122.38     40.58                36.0       1808.0           384.0   \n",
       "11239    -117.96     33.82                19.0       1199.0           251.0   \n",
       "16962    -122.31     37.54                45.0       1222.0           220.0   \n",
       "6376     -118.03     34.15                43.0       1694.0           283.0   \n",
       "14766    -117.10     32.58                33.0        393.0            76.0   \n",
       "19764    -122.14     40.07                31.0       2053.0           465.0   \n",
       "13104    -121.32     38.41                17.0       4401.0           655.0   \n",
       "\n",
       "       population  households  median_income  median_house_value  \\\n",
       "15692       722.0       327.0         8.0755            500001.0   \n",
       "13846      1174.0       362.0         3.3750             98000.0   \n",
       "10218       866.0       496.0         3.6435            119100.0   \n",
       "18698       807.0       383.0         1.8375             74800.0   \n",
       "11239       730.0       276.0         3.6422            209400.0   \n",
       "16962       492.0       205.0         5.5390            396900.0   \n",
       "6376        674.0       267.0         4.1797            486800.0   \n",
       "14766       330.0        80.0         4.1029            122700.0   \n",
       "19764      1193.0       447.0         1.4923             44400.0   \n",
       "13104      1970.0       639.0         5.8239            247500.0   \n",
       "\n",
       "      ocean_proximity  \n",
       "15692        NEAR BAY  \n",
       "13846          INLAND  \n",
       "10218       <1H OCEAN  \n",
       "18698          INLAND  \n",
       "11239       <1H OCEAN  \n",
       "16962      NEAR OCEAN  \n",
       "6376           INLAND  \n",
       "14766      NEAR OCEAN  \n",
       "19764          INLAND  \n",
       "13104          INLAND  "
      ]
     },
     "execution_count": 31,
     "metadata": {},
     "output_type": "execute_result"
    }
   ],
   "source": [
    "housing = pd.read_csv('C:/Users/Gerardo/Documents/Projects/PythonProjects/data_folder/housing/housing.csv')\n",
    "print(housing.shape)\n",
    "housing.sample(10)"
   ]
  },
  {
   "cell_type": "markdown",
   "metadata": {},
   "source": [
    "# Address NaNs"
   ]
  },
  {
   "cell_type": "code",
   "execution_count": 32,
   "metadata": {},
   "outputs": [
    {
     "name": "stdout",
     "output_type": "stream",
     "text": [
      "(20433, 10)\n"
     ]
    }
   ],
   "source": [
    "housing.dropna(inplace=True)\n",
    "print(housing.shape)"
   ]
  },
  {
   "cell_type": "markdown",
   "metadata": {},
   "source": [
    "# One Hot Encode"
   ]
  },
  {
   "cell_type": "code",
   "execution_count": 25,
   "metadata": {},
   "outputs": [],
   "source": [
    "x_onehot = {}\n",
    "my_onehot = OneHotEncoder()\n",
    "tmp_out  = my_onehot.fit_transform(housing['ocean_proximity'].values.reshape(-1,1)).toarray()\n",
    "\n",
    "for i in range(tmp_out.shape[1]):\n",
    "    x_onehot['ocean_proximity_' + str(i)] = tmp_out[:,i]"
   ]
  },
  {
   "cell_type": "markdown",
   "metadata": {},
   "source": [
    "# Scale Data"
   ]
  },
  {
   "cell_type": "code",
   "execution_count": 40,
   "metadata": {},
   "outputs": [],
   "source": [
    "num_cols = ['longitude','latitude',\n",
    "            'housing_median_age','total_rooms',\n",
    "            'total_bedrooms','population',\n",
    "            'households','median_income']\n",
    "\n",
    "x_scaled = {}\n",
    "my_scaler = StandardScaler()\n",
    "tmp_out = my_scaler.fit_transform(housing[num_cols])\n",
    "\n",
    "for i,c in enumerate(num_cols):\n",
    "    x_scaled[c] = tmp_out[:,i]"
   ]
  },
  {
   "cell_type": "code",
   "execution_count": 46,
   "metadata": {},
   "outputs": [],
   "source": [
    "x_scaled.update(x_onehot) #merge dictionaries\n",
    "X = pd.DataFrame(x_scaled,columns = x_scaled.keys())\n",
    "y  = housing['median_house_value']\n",
    "\n",
    "X_train,X_test,y_train,y_test = train_test_split(X,y,test_size=.3)\n",
    "X_val,X_test,y_val,y_test = train_test_split(X_test,y_test,test_size=.5)"
   ]
  },
  {
   "cell_type": "code",
   "execution_count": 49,
   "metadata": {},
   "outputs": [
    {
     "name": "stdout",
     "output_type": "stream",
     "text": [
      "Unconstrained Linear Regression RMSE: 70527.67675076371\n"
     ]
    },
    {
     "data": {
      "text/plain": [
       "LinearRegression()"
      ]
     },
     "execution_count": 49,
     "metadata": {},
     "output_type": "execute_result"
    },
    {
     "data": {
      "image/png": "[encoded data removed]",
      "text/plain": [
       "<Figure size 432x288 with 1 Axes>"
      ]
     },
     "metadata": {
      "needs_background": "light"
     },
     "output_type": "display_data"
    }
   ],
   "source": [
    "My_LinReg(X_train,X_test,y_train,y_test)"
   ]
  },
  {
   "cell_type": "code",
   "execution_count": 52,
   "metadata": {},
   "outputs": [
    {
     "name": "stdout",
     "output_type": "stream",
     "text": [
      "SGD Regression RMSE: 70618.95392209227\n"
     ]
    },
    {
     "data": {
      "image/png": "[encoded data removed]",
      "text/plain": [
       "<Figure size 432x288 with 1 Axes>"
      ]
     },
     "metadata": {
      "needs_background": "light"
     },
     "output_type": "display_data"
    }
   ],
   "source": [
    "my_SGD(X_train,X_test,y_train,y_test)"
   ]
  },
  {
   "cell_type": "code",
   "execution_count": 62,
   "metadata": {},
   "outputs": [
    {
     "name": "stdout",
     "output_type": "stream",
     "text": [
      "Validation loss: 73580.4187726461\n",
      "Validation loss: 68622.56332812757\n",
      "Validation loss: 68637.86897380144\n",
      "Validation loss: 68642.0555951914\n",
      "Validation loss: 68641.59907507806\n",
      "Validation loss: 68639.56300710332\n",
      "Validation loss: 68637.11580393725\n",
      "Validation loss: 68634.689481421\n",
      "Validation loss: 68632.43078943132\n",
      "Validation loss: 68630.37562312376\n",
      "SGD Regression RMSE: 70777.81308817002\n"
     ]
    },
    {
     "data": {
      "image/png": "[encoded data removed]",
      "text/plain": [
       "<Figure size 432x288 with 1 Axes>"
      ]
     },
     "metadata": {
      "needs_background": "light"
     },
     "output_type": "display_data"
    }
   ],
   "source": [
    "newsgd = SGDRegressor(penalty= 'elasticnet',l1_ratio = .1,random_state= 42)\n",
    "newsgd = my_mini_batch(newsgd,X_train,X_val,y_train,y_val,10,1000)\n",
    "\n",
    "y_pred = newsgd.predict(X_test)\n",
    "newsgd_score = np.sqrt(mean_squared_error(y_test,y_pred))\n",
    "\n",
    "print(f'SGD Regression RMSE: {newsgd_score}')"
   ]
  },
  {
   "cell_type": "code",
   "execution_count": 63,
   "metadata": {},
   "outputs": [
    {
     "name": "stdout",
     "output_type": "stream",
     "text": [
      "SGD Regression RMSE: 50201.01853645603\n"
     ]
    },
    {
     "data": {
      "image/png": "[encoded data removed]",
      "text/plain": [
       "<Figure size 432x288 with 1 Axes>"
      ]
     },
     "metadata": {
      "needs_background": "light"
     },
     "output_type": "display_data"
    }
   ],
   "source": [
    "my_Forest(X_train,X_test,y_train,y_test)"
   ]
  },
  {
   "cell_type": "code",
   "execution_count": null,
   "metadata": {},
   "outputs": [],
   "source": []
  }
 ],
 "metadata": {
  "interpreter": {
   "hash": "5effdde1fd048803b3704d23bd87152bc8d30461613bdeefdecf9d4ac1d2da28"
  },
  "kernelspec": {
   "display_name": "Python 3.8.9 ('ml')",
   "language": "python",
   "name": "python3"
  },
  "language_info": {
   "codemirror_mode": {
    "name": "ipython",
    "version": 3
   },
   "file_extension": ".py",
   "mimetype": "text/x-python",
   "name": "python",
   "nbconvert_exporter": "python",
   "pygments_lexer": "ipython3",
   "version": "3.8.9"
  },
  "orig_nbformat": 4
 },
 "nbformat": 4,
 "nbformat_minor": 2
}
